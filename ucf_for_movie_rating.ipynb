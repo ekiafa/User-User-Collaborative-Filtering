{
 "metadata": {
  "language_info": {
   "codemirror_mode": {
    "name": "ipython",
    "version": 3
   },
   "file_extension": ".py",
   "mimetype": "text/x-python",
   "name": "python",
   "nbconvert_exporter": "python",
   "pygments_lexer": "ipython3",
   "version": "3.6.9-final"
  },
  "orig_nbformat": 2,
  "kernelspec": {
   "name": "python36964bit7d23341ec93b4a939e7e4331684ad0e0",
   "display_name": "Python 3.6.9 64-bit"
  }
 },
 "nbformat": 4,
 "nbformat_minor": 2,
 "cells": [
  {
   "source": [
    "User-User Collaborative Filtering Exercise\n",
    "\n",
    "\n",
    "Name: Eftihia Kiafa AM:3003\n",
    "\n",
    "\n",
    "-As none rating value in cells is used negative value -1 in csv file user-user-collaborative-filtering-matrix.csv\n"
   ],
   "cell_type": "markdown",
   "metadata": {}
  },
  {
   "source": [
    "Part 1"
   ],
   "cell_type": "markdown",
   "metadata": {}
  },
  {
   "cell_type": "code",
   "execution_count": 240,
   "metadata": {},
   "outputs": [
    {
     "output_type": "execute_result",
     "data": {
      "text/plain": [
       "   Movies  Users  Rating\n",
       "0  Movie1  UserX       5\n",
       "1  Movie1  UserY       4\n",
       "2  Movie1  UserZ       3\n",
       "3  Movie1  UserW       2\n",
       "4  Movie2  UserX       3"
      ],
      "text/html": "<div>\n<style scoped>\n    .dataframe tbody tr th:only-of-type {\n        vertical-align: middle;\n    }\n\n    .dataframe tbody tr th {\n        vertical-align: top;\n    }\n\n    .dataframe thead th {\n        text-align: right;\n    }\n</style>\n<table border=\"1\" class=\"dataframe\">\n  <thead>\n    <tr style=\"text-align: right;\">\n      <th></th>\n      <th>Movies</th>\n      <th>Users</th>\n      <th>Rating</th>\n    </tr>\n  </thead>\n  <tbody>\n    <tr>\n      <th>0</th>\n      <td>Movie1</td>\n      <td>UserX</td>\n      <td>5</td>\n    </tr>\n    <tr>\n      <th>1</th>\n      <td>Movie1</td>\n      <td>UserY</td>\n      <td>4</td>\n    </tr>\n    <tr>\n      <th>2</th>\n      <td>Movie1</td>\n      <td>UserZ</td>\n      <td>3</td>\n    </tr>\n    <tr>\n      <th>3</th>\n      <td>Movie1</td>\n      <td>UserW</td>\n      <td>2</td>\n    </tr>\n    <tr>\n      <th>4</th>\n      <td>Movie2</td>\n      <td>UserX</td>\n      <td>3</td>\n    </tr>\n  </tbody>\n</table>\n</div>"
     },
     "metadata": {},
     "execution_count": 240
    }
   ],
   "source": [
    "import csv\n",
    "import pandas as pd\n",
    "from scipy.spatial import distance\n",
    "import seaborn as sns\n",
    "import numpy\n",
    "\n",
    "sns.set()\n",
    "ratingMatrix=pd.read_csv(\"user-user-collaborative-filtering-matrix.csv\",usecols=['Users','Rating','Movies'])\n",
    "ratingMatrix.head()"
   ]
  },
  {
   "cell_type": "code",
   "execution_count": 241,
   "metadata": {},
   "outputs": [
    {
     "output_type": "stream",
     "name": "stdout",
     "text": [
      "\nCosine similarity between UserX and UserY:\n0.7947194142390264\n\nCosine similarity between UserX and UserW:\n0.39901193756050635\n\nCosine similarity between UserX and UserZ:\n0.23693955110363696\n"
     ]
    }
   ],
   "source": [
    "#get for each user his movie ratings\n",
    "UserX=ratingMatrix.loc[ratingMatrix['Users']=='UserX']\n",
    "UserY=ratingMatrix.loc[ratingMatrix['Users']=='UserY']\n",
    "UserZ=ratingMatrix.loc[ratingMatrix['Users']=='UserZ']\n",
    "UserW=ratingMatrix.loc[ratingMatrix['Users']=='UserW']\n",
    "\n",
    "\n",
    "#calculate cosine similarity for UserX with each user\n",
    "print('\\nCosine similarity between UserX and UserY:')\n",
    "cosineXY_similarity=1-distance.cosine(UserX['Rating'],UserY['Rating'])\n",
    "print(cosineXY_similarity)\n",
    "\n",
    "print('\\nCosine similarity between UserX and UserW:')\n",
    "cosineXW_similarity=1-distance.cosine(UserX['Rating'],UserW['Rating'])\n",
    "print(cosineXW_similarity)\n",
    "\n",
    "print('\\nCosine similarity between UserX and UserZ:')\n",
    "cosineXZ_similarity=1-distance.cosine(UserX['Rating'],UserZ['Rating'])\n",
    "print(cosineXZ_similarity)\n"
   ]
  },
  {
   "source": [
    "Most similar users to UserX are UserY and UserW,because as bigger the cosine is,as similar the users are.So we'll calculate the Weighted Mean for these two users to find UserX's rating for Movie 6.Weight is this case is cosine similarity."
   ],
   "cell_type": "markdown",
   "metadata": {}
  },
  {
   "cell_type": "code",
   "execution_count": 242,
   "metadata": {},
   "outputs": [
    {
     "output_type": "stream",
     "name": "stdout",
     "text": [
      "\nThis is UserW's rating for Movie6\n\n    Movies  Users  Rating\n23  Movie6  UserW       4\n\nThis is UserZ's rating for Movie6\n\n    Movies  Users  Rating\n22  Movie6  UserZ       3\n\nThis is UserX's rating for Movie6\n\n    Movies  Users  Rating\n20  Movie6  UserX      -1\n\nThis is UserY's rating for Movie6\n\n    Movies  Users  Rating\n21  Movie6  UserY       1\n\nWeighted_mean_of_UserW_UserZ_Movie6 :  2.002768178013424\n"
     ]
    }
   ],
   "source": [
    "#get for each user Movie6's rating\n",
    "UserW_Movie6=UserW.loc[UserW['Movies']=='Movie6']\n",
    "print(\"\\nThis is UserW's rating for Movie6\\n\")\n",
    "print(UserW_Movie6)\n",
    "UserZ_Movie6=UserZ.loc[UserZ['Movies']=='Movie6']\n",
    "print(\"\\nThis is UserZ's rating for Movie6\\n\")\n",
    "print(UserZ_Movie6)\n",
    "UserX_Movie6=UserX.loc[UserX['Movies']=='Movie6']\n",
    "print(\"\\nThis is UserX's rating for Movie6\\n\")\n",
    "print(UserX_Movie6)\n",
    "\n",
    "UserY_Movie6=UserY.loc[UserY['Movies']=='Movie6']\n",
    "print(\"\\nThis is UserY's rating for Movie6\\n\")\n",
    "print(UserY_Movie6)\n",
    "\n",
    "#make rating float\n",
    "a=float(UserW_Movie6['Rating'])\n",
    "b=float(UserY_Movie6['Rating'])\n",
    "\n",
    "#calculate weighted_mean_of_UserW_UserZ_Movie6\n",
    "weighted_mean_of_UserW_UserY_Movie6=(cosineXW_similarity*a+cosineXY_similarity*b)/(cosineXW_similarity+cosineXY_similarity)\n",
    "print('\\nWeighted_mean_of_UserW_UserY_Movie6 : ',weighted_mean_of_UserW_UserY_Movie6)"
   ]
  },
  {
   "source": [
    "Conclusion of Part 1:\n",
    "\n",
    "\n",
    "\n",
    "So possible rating of UserX's about Movie6,with down rounding is : 2"
   ],
   "cell_type": "markdown",
   "metadata": {}
  },
  {
   "source": [
    "Part 2"
   ],
   "cell_type": "markdown",
   "metadata": {}
  },
  {
   "cell_type": "code",
   "execution_count": 243,
   "metadata": {},
   "outputs": [
    {
     "output_type": "stream",
     "name": "stdout",
     "text": [
      "\nThis is UserW's ratings mean value:\n\nRating    3.333333\ndtype: float64\n\nThis is UserZ's ratings mean value:\n\nRating    2.5\ndtype: float64\n\nThis is UserY's ratings mean value:\n\nRating    2.0\ndtype: float64\n\nThis is UserX's ratings mean value:\n\nRating    3.0\ndtype: float64\n"
     ]
    }
   ],
   "source": [
    "#calculate the mean of each row of ratings per user for positive values only\n",
    "UserW_Rating=UserW.loc[UserW['Rating']!=-1]\n",
    "print(\"\\nThis is UserW's ratings mean value:\\n\")\n",
    "print(UserW_Rating.mean())\n",
    "UserZ_Rating=UserZ.loc[UserZ['Rating']!=-1]\n",
    "print(\"\\nThis is UserZ's ratings mean value:\\n\")\n",
    "print(UserZ_Rating.mean())\n",
    "UserY_Rating=UserY.loc[UserY['Rating']!=-1]\n",
    "print(\"\\nThis is UserY's ratings mean value:\\n\")\n",
    "print(UserY_Rating.mean())\n",
    "UserX_Rating=UserX.loc[UserX['Rating']!=-1]\n",
    "print(\"\\nThis is UserX's ratings mean value:\\n\")\n",
    "print(UserX_Rating.mean())"
   ]
  },
  {
   "cell_type": "code",
   "execution_count": 244,
   "metadata": {},
   "outputs": [
    {
     "output_type": "stream",
     "name": "stdout",
     "text": [
      "\n",
      "UsersX's ratings with sub mean update\n",
      "    Movies  Users  Rating\n",
      "0   Movie1  UserX       2\n",
      "4   Movie2  UserX       0\n",
      "8   Movie3  UserX      -2\n",
      "12  Movie4  UserX       1\n",
      "16  Movie5  UserX      -1\n",
      "20  Movie6  UserX      -1\n",
      "\n",
      "UsersW's ratings with sub mean update\n",
      "    Movies  Users    Rating\n",
      "3   Movie1  UserW -1.333333\n",
      "7   Movie2  UserW  1.666667\n",
      "11  Movie3  UserW -2.333333\n",
      "15  Movie4  UserW  1.666667\n",
      "19  Movie5  UserW -0.333333\n",
      "23  Movie6  UserW  0.666667\n",
      "\n",
      "UsersY's ratings with sub mean update\n",
      "    Movies  Users  Rating\n",
      "1   Movie1  UserY       2\n",
      "5   Movie2  UserY       0\n",
      "9   Movie3  UserY      -1\n",
      "13  Movie4  UserY      -1\n",
      "17  Movie5  UserY      -1\n",
      "21  Movie6  UserY       1\n",
      "\n",
      "UsersZ's ratings with sub mean update\n",
      "    Movies  Users  Rating\n",
      "2   Movie1  UserZ     0.5\n",
      "6   Movie2  UserZ    -1.5\n",
      "10  Movie3  UserZ     0.5\n",
      "14  Movie4  UserZ     0.5\n",
      "18  Movie5  UserZ     3.0\n",
      "22  Movie6  UserZ     3.0\n"
     ]
    }
   ],
   "source": [
    "#-----UserX update \n",
    "    \n",
    "count=-4\n",
    "for x in UserX.Rating:\n",
    "      if x!=-1:\n",
    "           count+=4\n",
    "           x=x-float(UserX_Rating.mean())\n",
    "           UserX.loc[count,'Rating']=x\n",
    "      else:\n",
    "           x=x\n",
    "print(\"\\nUsersX's ratings with sub mean update\")\n",
    "print(UserX)\n",
    "\n",
    "#-----UserW update \n",
    "\n",
    "count=-1\n",
    "for x in UserW.Rating:\n",
    "      if x!=-1:\n",
    "           count+=4\n",
    "           x=x-float(UserW_Rating.mean())\n",
    "           UserW.loc[count,'Rating']=x\n",
    "      else:\n",
    "           x=x\n",
    "print(\"\\nUsersW's ratings with sub mean update\")\n",
    "print(UserW) \n",
    "\n",
    "#-----UserY update \n",
    "count=-3\n",
    "for x in UserY.Rating:\n",
    "      if x!=-1:\n",
    "           count+=4\n",
    "           x=x-float(UserY_Rating.mean())\n",
    "           UserY.loc[count,'Rating']=x\n",
    "      else:\n",
    "           x=x\n",
    "print(\"\\nUsersY's ratings with sub mean update\")\n",
    "print(UserY) \n",
    "\n",
    "#-----UserZ update \n",
    "count=-2\n",
    "for x in UserZ.Rating:\n",
    "      if x!=-1:\n",
    "           count+=4\n",
    "           x=x-float(UserZ_Rating.mean())\n",
    "           UserZ.loc[count,'Rating']=x\n",
    "      else:\n",
    "           x=x\n",
    "print(\"\\nUsersZ's ratings with sub mean update\")\n",
    "print(UserZ) "
   ]
  },
  {
   "cell_type": "code",
   "execution_count": 245,
   "metadata": {},
   "outputs": [
    {
     "output_type": "stream",
     "name": "stdout",
     "text": [
      "\nCosine similarity between UserX and UserY:\n0.7947194142390264\n\nCosine similarity between UserX and UserW:\n0.39901193756050635\n\nCosine similarity between UserX and UserZ:\n0.23693955110363696\n"
     ]
    }
   ],
   "source": [
    "#get for each user his movie ratings\n",
    "UserX=ratingMatrix.loc[ratingMatrix['Users']=='UserX']\n",
    "UserY=ratingMatrix.loc[ratingMatrix['Users']=='UserY']\n",
    "UserZ=ratingMatrix.loc[ratingMatrix['Users']=='UserZ']\n",
    "UserW=ratingMatrix.loc[ratingMatrix['Users']=='UserW']\n",
    "\n",
    "\n",
    "#calculate cosine similarity for UserX with each user\n",
    "print('\\nCosine similarity between UserX and UserY:')\n",
    "cosineXY_similarity=1-distance.cosine(UserX['Rating'],UserY['Rating'])\n",
    "print(cosineXY_similarity)\n",
    "\n",
    "print('\\nCosine similarity between UserX and UserW:')\n",
    "cosineXW_similarity=1-distance.cosine(UserX['Rating'],UserW['Rating'])\n",
    "print(cosineXW_similarity)\n",
    "\n",
    "print('\\nCosine similarity between UserX and UserZ:')\n",
    "cosineXZ_similarity=1-distance.cosine(UserX['Rating'],UserZ['Rating'])\n",
    "print(cosineXZ_similarity)"
   ]
  },
  {
   "source": [
    "Most similar users to UserX are UserY and UserW,because as bigger the cosine is,as similar the users are.So we'll calculate the Weighted Mean for these two users to find UserX's rating for Movie 6.Weight is this case is cosine similarity.\n"
   ],
   "cell_type": "markdown",
   "metadata": {}
  },
  {
   "cell_type": "code",
   "execution_count": 246,
   "metadata": {},
   "outputs": [
    {
     "output_type": "stream",
     "name": "stdout",
     "text": [
      "\n",
      "This is UserW's rating for Movie6\n",
      "\n",
      "    Movies  Users  Rating\n",
      "23  Movie6  UserW       4\n",
      "\n",
      "This is UserZ's rating for Movie6\n",
      "\n",
      "    Movies  Users  Rating\n",
      "22  Movie6  UserZ       3\n",
      "\n",
      "This is UserX's rating for Movie6\n",
      "\n",
      "    Movies  Users  Rating\n",
      "20  Movie6  UserX      -1\n",
      "\n",
      "This is UserY's rating for Movie6\n",
      "\n",
      "    Movies  Users  Rating\n",
      "21  Movie6  UserY       1\n",
      "\n",
      "Weighted_mean_of_UserW_UserZ_Movie6 :  2.002768178013424\n"
     ]
    }
   ],
   "source": [
    "#get for each user Movie6's rating\n",
    "UserW_Movie6=UserW.loc[UserW['Movies']=='Movie6']\n",
    "print(\"\\nThis is UserW's rating for Movie6\\n\")\n",
    "print(UserW_Movie6)\n",
    "UserZ_Movie6=UserZ.loc[UserZ['Movies']=='Movie6']\n",
    "print(\"\\nThis is UserZ's rating for Movie6\\n\")\n",
    "print(UserZ_Movie6)\n",
    "UserX_Movie6=UserX.loc[UserX['Movies']=='Movie6']\n",
    "print(\"\\nThis is UserX's rating for Movie6\\n\")\n",
    "print(UserX_Movie6)\n",
    "\n",
    "UserY_Movie6=UserY.loc[UserY['Movies']=='Movie6']\n",
    "print(\"\\nThis is UserY's rating for Movie6\\n\")\n",
    "print(UserY_Movie6)\n",
    "\n",
    "#make rating float\n",
    "a=float(UserW_Movie6['Rating'])\n",
    "b=float(UserY_Movie6['Rating'])\n",
    "\n",
    "#calculate weighted_mean_of_variance_of_UserW_UserY_Movie6\n",
    "weighted_mean_of_variance_of_UserW_UserY_Movie6=(cosineXW_similarity*a+cosineXY_similarity*b)/(cosineXW_similarity+cosineXY_similarity)\n",
    "print('\\nWeighted_mean_of_UserW_UserZ_Movie6 : ',weighted_mean_of_variance_of_UserW_UserY_Movie6)"
   ]
  },
  {
   "cell_type": "code",
   "execution_count": 247,
   "metadata": {},
   "outputs": [
    {
     "output_type": "stream",
     "name": "stdout",
     "text": [
      "5.002768178013424\n"
     ]
    }
   ],
   "source": [
    "#rating for (x,6) is weighted_mean_of_variance_of_UserW_UserY_Movie6 + mean of x\n",
    "UserX_Movie6_Rating=weighted_mean_of_variance_of_UserW_UserY_Movie6+float(UserX_Rating.mean())\n",
    "print(UserX_Movie6_Rating)"
   ]
  },
  {
   "source": [
    "Conclusion of Part 2:\n",
    "\n",
    "\n",
    "\n",
    "So possible rating of UserX's about Movie6,with down rounding is : 5"
   ],
   "cell_type": "markdown",
   "metadata": {}
  }
 ]
}